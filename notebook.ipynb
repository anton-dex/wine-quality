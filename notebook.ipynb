{
 "cells": [
  {
   "cell_type": "markdown",
   "metadata": {},
   "source": [
    "# Machine learning zoomcamp: Midterm project - Wine quality"
   ]
  },
  {
   "cell_type": "markdown",
   "metadata": {},
   "source": [
    "## First look at data"
   ]
  },
  {
   "cell_type": "code",
   "execution_count": 2,
   "metadata": {},
   "outputs": [],
   "source": [
    "import pandas as pd"
   ]
  },
  {
   "cell_type": "code",
   "execution_count": 3,
   "metadata": {},
   "outputs": [
    {
     "data": {
      "text/plain": [
       "4898"
      ]
     },
     "execution_count": 3,
     "metadata": {},
     "output_type": "execute_result"
    }
   ],
   "source": [
    "df = pd.read_csv('wine+quality/winequality-white.csv', sep=';')\n",
    "len(df)"
   ]
  },
  {
   "cell_type": "code",
   "execution_count": 4,
   "metadata": {},
   "outputs": [
    {
     "data": {
      "text/html": [
       "<div>\n",
       "<style scoped>\n",
       "    .dataframe tbody tr th:only-of-type {\n",
       "        vertical-align: middle;\n",
       "    }\n",
       "\n",
       "    .dataframe tbody tr th {\n",
       "        vertical-align: top;\n",
       "    }\n",
       "\n",
       "    .dataframe thead th {\n",
       "        text-align: right;\n",
       "    }\n",
       "</style>\n",
       "<table border=\"1\" class=\"dataframe\">\n",
       "  <thead>\n",
       "    <tr style=\"text-align: right;\">\n",
       "      <th></th>\n",
       "      <th>fixed-acidity</th>\n",
       "      <th>volatile-acidity</th>\n",
       "      <th>citric-acid</th>\n",
       "      <th>residual-sugar</th>\n",
       "      <th>chlorides</th>\n",
       "      <th>free-sulfur-dioxide</th>\n",
       "      <th>total-sulfur-dioxide</th>\n",
       "      <th>density</th>\n",
       "      <th>ph</th>\n",
       "      <th>sulphates</th>\n",
       "      <th>alcohol</th>\n",
       "      <th>quality</th>\n",
       "    </tr>\n",
       "  </thead>\n",
       "  <tbody>\n",
       "    <tr>\n",
       "      <th>0</th>\n",
       "      <td>7.0</td>\n",
       "      <td>0.27</td>\n",
       "      <td>0.36</td>\n",
       "      <td>20.7</td>\n",
       "      <td>0.045</td>\n",
       "      <td>45.0</td>\n",
       "      <td>170.0</td>\n",
       "      <td>1.0010</td>\n",
       "      <td>3.00</td>\n",
       "      <td>0.45</td>\n",
       "      <td>8.8</td>\n",
       "      <td>6</td>\n",
       "    </tr>\n",
       "    <tr>\n",
       "      <th>1</th>\n",
       "      <td>6.3</td>\n",
       "      <td>0.30</td>\n",
       "      <td>0.34</td>\n",
       "      <td>1.6</td>\n",
       "      <td>0.049</td>\n",
       "      <td>14.0</td>\n",
       "      <td>132.0</td>\n",
       "      <td>0.9940</td>\n",
       "      <td>3.30</td>\n",
       "      <td>0.49</td>\n",
       "      <td>9.5</td>\n",
       "      <td>6</td>\n",
       "    </tr>\n",
       "    <tr>\n",
       "      <th>2</th>\n",
       "      <td>8.1</td>\n",
       "      <td>0.28</td>\n",
       "      <td>0.40</td>\n",
       "      <td>6.9</td>\n",
       "      <td>0.050</td>\n",
       "      <td>30.0</td>\n",
       "      <td>97.0</td>\n",
       "      <td>0.9951</td>\n",
       "      <td>3.26</td>\n",
       "      <td>0.44</td>\n",
       "      <td>10.1</td>\n",
       "      <td>6</td>\n",
       "    </tr>\n",
       "    <tr>\n",
       "      <th>3</th>\n",
       "      <td>7.2</td>\n",
       "      <td>0.23</td>\n",
       "      <td>0.32</td>\n",
       "      <td>8.5</td>\n",
       "      <td>0.058</td>\n",
       "      <td>47.0</td>\n",
       "      <td>186.0</td>\n",
       "      <td>0.9956</td>\n",
       "      <td>3.19</td>\n",
       "      <td>0.40</td>\n",
       "      <td>9.9</td>\n",
       "      <td>6</td>\n",
       "    </tr>\n",
       "    <tr>\n",
       "      <th>4</th>\n",
       "      <td>7.2</td>\n",
       "      <td>0.23</td>\n",
       "      <td>0.32</td>\n",
       "      <td>8.5</td>\n",
       "      <td>0.058</td>\n",
       "      <td>47.0</td>\n",
       "      <td>186.0</td>\n",
       "      <td>0.9956</td>\n",
       "      <td>3.19</td>\n",
       "      <td>0.40</td>\n",
       "      <td>9.9</td>\n",
       "      <td>6</td>\n",
       "    </tr>\n",
       "  </tbody>\n",
       "</table>\n",
       "</div>"
      ],
      "text/plain": [
       "   fixed-acidity  volatile-acidity  citric-acid  residual-sugar  chlorides  \\\n",
       "0            7.0              0.27         0.36            20.7      0.045   \n",
       "1            6.3              0.30         0.34             1.6      0.049   \n",
       "2            8.1              0.28         0.40             6.9      0.050   \n",
       "3            7.2              0.23         0.32             8.5      0.058   \n",
       "4            7.2              0.23         0.32             8.5      0.058   \n",
       "\n",
       "   free-sulfur-dioxide  total-sulfur-dioxide  density    ph  sulphates  \\\n",
       "0                 45.0                 170.0   1.0010  3.00       0.45   \n",
       "1                 14.0                 132.0   0.9940  3.30       0.49   \n",
       "2                 30.0                  97.0   0.9951  3.26       0.44   \n",
       "3                 47.0                 186.0   0.9956  3.19       0.40   \n",
       "4                 47.0                 186.0   0.9956  3.19       0.40   \n",
       "\n",
       "   alcohol  quality  \n",
       "0      8.8        6  \n",
       "1      9.5        6  \n",
       "2     10.1        6  \n",
       "3      9.9        6  \n",
       "4      9.9        6  "
      ]
     },
     "execution_count": 4,
     "metadata": {},
     "output_type": "execute_result"
    }
   ],
   "source": [
    "df.columns = df.columns.str.replace(' ', '-').str.lower()\n",
    "df.head()"
   ]
  },
  {
   "cell_type": "code",
   "execution_count": 5,
   "metadata": {},
   "outputs": [
    {
     "data": {
      "text/html": [
       "<div>\n",
       "<style scoped>\n",
       "    .dataframe tbody tr th:only-of-type {\n",
       "        vertical-align: middle;\n",
       "    }\n",
       "\n",
       "    .dataframe tbody tr th {\n",
       "        vertical-align: top;\n",
       "    }\n",
       "\n",
       "    .dataframe thead th {\n",
       "        text-align: right;\n",
       "    }\n",
       "</style>\n",
       "<table border=\"1\" class=\"dataframe\">\n",
       "  <thead>\n",
       "    <tr style=\"text-align: right;\">\n",
       "      <th></th>\n",
       "      <th>fixed-acidity</th>\n",
       "      <th>volatile-acidity</th>\n",
       "      <th>citric-acid</th>\n",
       "      <th>residual-sugar</th>\n",
       "      <th>chlorides</th>\n",
       "      <th>free-sulfur-dioxide</th>\n",
       "      <th>total-sulfur-dioxide</th>\n",
       "      <th>density</th>\n",
       "      <th>ph</th>\n",
       "      <th>sulphates</th>\n",
       "      <th>alcohol</th>\n",
       "      <th>quality</th>\n",
       "    </tr>\n",
       "  </thead>\n",
       "  <tbody>\n",
       "    <tr>\n",
       "      <th>count</th>\n",
       "      <td>4898.000000</td>\n",
       "      <td>4898.000000</td>\n",
       "      <td>4898.000000</td>\n",
       "      <td>4898.000000</td>\n",
       "      <td>4898.000000</td>\n",
       "      <td>4898.000000</td>\n",
       "      <td>4898.000000</td>\n",
       "      <td>4898.000000</td>\n",
       "      <td>4898.000000</td>\n",
       "      <td>4898.000000</td>\n",
       "      <td>4898.000000</td>\n",
       "      <td>4898.000000</td>\n",
       "    </tr>\n",
       "    <tr>\n",
       "      <th>mean</th>\n",
       "      <td>6.854788</td>\n",
       "      <td>0.278241</td>\n",
       "      <td>0.334192</td>\n",
       "      <td>6.391415</td>\n",
       "      <td>0.045772</td>\n",
       "      <td>35.308085</td>\n",
       "      <td>138.360657</td>\n",
       "      <td>0.994027</td>\n",
       "      <td>3.188267</td>\n",
       "      <td>0.489847</td>\n",
       "      <td>10.514267</td>\n",
       "      <td>5.877909</td>\n",
       "    </tr>\n",
       "    <tr>\n",
       "      <th>std</th>\n",
       "      <td>0.843868</td>\n",
       "      <td>0.100795</td>\n",
       "      <td>0.121020</td>\n",
       "      <td>5.072058</td>\n",
       "      <td>0.021848</td>\n",
       "      <td>17.007137</td>\n",
       "      <td>42.498065</td>\n",
       "      <td>0.002991</td>\n",
       "      <td>0.151001</td>\n",
       "      <td>0.114126</td>\n",
       "      <td>1.230621</td>\n",
       "      <td>0.885639</td>\n",
       "    </tr>\n",
       "    <tr>\n",
       "      <th>min</th>\n",
       "      <td>3.800000</td>\n",
       "      <td>0.080000</td>\n",
       "      <td>0.000000</td>\n",
       "      <td>0.600000</td>\n",
       "      <td>0.009000</td>\n",
       "      <td>2.000000</td>\n",
       "      <td>9.000000</td>\n",
       "      <td>0.987110</td>\n",
       "      <td>2.720000</td>\n",
       "      <td>0.220000</td>\n",
       "      <td>8.000000</td>\n",
       "      <td>3.000000</td>\n",
       "    </tr>\n",
       "    <tr>\n",
       "      <th>25%</th>\n",
       "      <td>6.300000</td>\n",
       "      <td>0.210000</td>\n",
       "      <td>0.270000</td>\n",
       "      <td>1.700000</td>\n",
       "      <td>0.036000</td>\n",
       "      <td>23.000000</td>\n",
       "      <td>108.000000</td>\n",
       "      <td>0.991723</td>\n",
       "      <td>3.090000</td>\n",
       "      <td>0.410000</td>\n",
       "      <td>9.500000</td>\n",
       "      <td>5.000000</td>\n",
       "    </tr>\n",
       "    <tr>\n",
       "      <th>50%</th>\n",
       "      <td>6.800000</td>\n",
       "      <td>0.260000</td>\n",
       "      <td>0.320000</td>\n",
       "      <td>5.200000</td>\n",
       "      <td>0.043000</td>\n",
       "      <td>34.000000</td>\n",
       "      <td>134.000000</td>\n",
       "      <td>0.993740</td>\n",
       "      <td>3.180000</td>\n",
       "      <td>0.470000</td>\n",
       "      <td>10.400000</td>\n",
       "      <td>6.000000</td>\n",
       "    </tr>\n",
       "    <tr>\n",
       "      <th>75%</th>\n",
       "      <td>7.300000</td>\n",
       "      <td>0.320000</td>\n",
       "      <td>0.390000</td>\n",
       "      <td>9.900000</td>\n",
       "      <td>0.050000</td>\n",
       "      <td>46.000000</td>\n",
       "      <td>167.000000</td>\n",
       "      <td>0.996100</td>\n",
       "      <td>3.280000</td>\n",
       "      <td>0.550000</td>\n",
       "      <td>11.400000</td>\n",
       "      <td>6.000000</td>\n",
       "    </tr>\n",
       "    <tr>\n",
       "      <th>max</th>\n",
       "      <td>14.200000</td>\n",
       "      <td>1.100000</td>\n",
       "      <td>1.660000</td>\n",
       "      <td>65.800000</td>\n",
       "      <td>0.346000</td>\n",
       "      <td>289.000000</td>\n",
       "      <td>440.000000</td>\n",
       "      <td>1.038980</td>\n",
       "      <td>3.820000</td>\n",
       "      <td>1.080000</td>\n",
       "      <td>14.200000</td>\n",
       "      <td>9.000000</td>\n",
       "    </tr>\n",
       "  </tbody>\n",
       "</table>\n",
       "</div>"
      ],
      "text/plain": [
       "       fixed-acidity  volatile-acidity  citric-acid  residual-sugar  \\\n",
       "count    4898.000000       4898.000000  4898.000000     4898.000000   \n",
       "mean        6.854788          0.278241     0.334192        6.391415   \n",
       "std         0.843868          0.100795     0.121020        5.072058   \n",
       "min         3.800000          0.080000     0.000000        0.600000   \n",
       "25%         6.300000          0.210000     0.270000        1.700000   \n",
       "50%         6.800000          0.260000     0.320000        5.200000   \n",
       "75%         7.300000          0.320000     0.390000        9.900000   \n",
       "max        14.200000          1.100000     1.660000       65.800000   \n",
       "\n",
       "         chlorides  free-sulfur-dioxide  total-sulfur-dioxide      density  \\\n",
       "count  4898.000000          4898.000000           4898.000000  4898.000000   \n",
       "mean      0.045772            35.308085            138.360657     0.994027   \n",
       "std       0.021848            17.007137             42.498065     0.002991   \n",
       "min       0.009000             2.000000              9.000000     0.987110   \n",
       "25%       0.036000            23.000000            108.000000     0.991723   \n",
       "50%       0.043000            34.000000            134.000000     0.993740   \n",
       "75%       0.050000            46.000000            167.000000     0.996100   \n",
       "max       0.346000           289.000000            440.000000     1.038980   \n",
       "\n",
       "                ph    sulphates      alcohol      quality  \n",
       "count  4898.000000  4898.000000  4898.000000  4898.000000  \n",
       "mean      3.188267     0.489847    10.514267     5.877909  \n",
       "std       0.151001     0.114126     1.230621     0.885639  \n",
       "min       2.720000     0.220000     8.000000     3.000000  \n",
       "25%       3.090000     0.410000     9.500000     5.000000  \n",
       "50%       3.180000     0.470000    10.400000     6.000000  \n",
       "75%       3.280000     0.550000    11.400000     6.000000  \n",
       "max       3.820000     1.080000    14.200000     9.000000  "
      ]
     },
     "execution_count": 5,
     "metadata": {},
     "output_type": "execute_result"
    }
   ],
   "source": [
    "df.describe()"
   ]
  },
  {
   "cell_type": "code",
   "execution_count": 6,
   "metadata": {},
   "outputs": [
    {
     "name": "stdout",
     "output_type": "stream",
     "text": [
      "<class 'pandas.core.frame.DataFrame'>\n",
      "RangeIndex: 4898 entries, 0 to 4897\n",
      "Data columns (total 12 columns):\n",
      " #   Column                Non-Null Count  Dtype  \n",
      "---  ------                --------------  -----  \n",
      " 0   fixed-acidity         4898 non-null   float64\n",
      " 1   volatile-acidity      4898 non-null   float64\n",
      " 2   citric-acid           4898 non-null   float64\n",
      " 3   residual-sugar        4898 non-null   float64\n",
      " 4   chlorides             4898 non-null   float64\n",
      " 5   free-sulfur-dioxide   4898 non-null   float64\n",
      " 6   total-sulfur-dioxide  4898 non-null   float64\n",
      " 7   density               4898 non-null   float64\n",
      " 8   ph                    4898 non-null   float64\n",
      " 9   sulphates             4898 non-null   float64\n",
      " 10  alcohol               4898 non-null   float64\n",
      " 11  quality               4898 non-null   int64  \n",
      "dtypes: float64(11), int64(1)\n",
      "memory usage: 459.3 KB\n"
     ]
    }
   ],
   "source": [
    "df.info()"
   ]
  },
  {
   "cell_type": "markdown",
   "metadata": {},
   "source": [
    "## EDA"
   ]
  },
  {
   "cell_type": "code",
   "execution_count": 7,
   "metadata": {},
   "outputs": [],
   "source": [
    "import seaborn as sns\n",
    "from matplotlib import pyplot as plt\n",
    "%matplotlib inline"
   ]
  },
  {
   "cell_type": "code",
   "execution_count": 8,
   "metadata": {},
   "outputs": [
    {
     "data": {
      "image/png": "[encoded data removed]",
      "text/plain": [
       "<Figure size 600x400 with 1 Axes>"
      ]
     },
     "metadata": {},
     "output_type": "display_data"
    }
   ],
   "source": [
    "plt.figure(figsize=(6, 4))\n",
    "\n",
    "sns.histplot(df['quality'], bins=10, color='black', alpha=1)\n",
    "plt.ylabel('Frequency')\n",
    "plt.xlabel('Quality')\n",
    "plt.title('Distribution')\n",
    "\n",
    "plt.show()"
   ]
  },
  {
   "cell_type": "code",
   "execution_count": 9,
   "metadata": {},
   "outputs": [
    {
     "data": {
      "text/html": [
       "<div>\n",
       "<style scoped>\n",
       "    .dataframe tbody tr th:only-of-type {\n",
       "        vertical-align: middle;\n",
       "    }\n",
       "\n",
       "    .dataframe tbody tr th {\n",
       "        vertical-align: top;\n",
       "    }\n",
       "\n",
       "    .dataframe thead th {\n",
       "        text-align: right;\n",
       "    }\n",
       "</style>\n",
       "<table border=\"1\" class=\"dataframe\">\n",
       "  <thead>\n",
       "    <tr style=\"text-align: right;\">\n",
       "      <th></th>\n",
       "      <th>fixed-acidity</th>\n",
       "      <th>volatile-acidity</th>\n",
       "      <th>citric-acid</th>\n",
       "      <th>residual-sugar</th>\n",
       "      <th>chlorides</th>\n",
       "      <th>free-sulfur-dioxide</th>\n",
       "      <th>total-sulfur-dioxide</th>\n",
       "      <th>density</th>\n",
       "      <th>ph</th>\n",
       "      <th>sulphates</th>\n",
       "      <th>alcohol</th>\n",
       "      <th>quality</th>\n",
       "    </tr>\n",
       "  </thead>\n",
       "  <tbody>\n",
       "    <tr>\n",
       "      <th>fixed-acidity</th>\n",
       "      <td>1.000</td>\n",
       "      <td>-0.023</td>\n",
       "      <td>0.289</td>\n",
       "      <td>0.089</td>\n",
       "      <td>0.023</td>\n",
       "      <td>-0.049</td>\n",
       "      <td>0.091</td>\n",
       "      <td>0.265</td>\n",
       "      <td>-0.426</td>\n",
       "      <td>-0.017</td>\n",
       "      <td>-0.121</td>\n",
       "      <td>-0.114</td>\n",
       "    </tr>\n",
       "    <tr>\n",
       "      <th>volatile-acidity</th>\n",
       "      <td>-0.023</td>\n",
       "      <td>1.000</td>\n",
       "      <td>-0.149</td>\n",
       "      <td>0.064</td>\n",
       "      <td>0.071</td>\n",
       "      <td>-0.097</td>\n",
       "      <td>0.089</td>\n",
       "      <td>0.027</td>\n",
       "      <td>-0.032</td>\n",
       "      <td>-0.036</td>\n",
       "      <td>0.068</td>\n",
       "      <td>-0.195</td>\n",
       "    </tr>\n",
       "    <tr>\n",
       "      <th>citric-acid</th>\n",
       "      <td>0.289</td>\n",
       "      <td>-0.149</td>\n",
       "      <td>1.000</td>\n",
       "      <td>0.094</td>\n",
       "      <td>0.114</td>\n",
       "      <td>0.094</td>\n",
       "      <td>0.121</td>\n",
       "      <td>0.150</td>\n",
       "      <td>-0.164</td>\n",
       "      <td>0.062</td>\n",
       "      <td>-0.076</td>\n",
       "      <td>-0.009</td>\n",
       "    </tr>\n",
       "    <tr>\n",
       "      <th>residual-sugar</th>\n",
       "      <td>0.089</td>\n",
       "      <td>0.064</td>\n",
       "      <td>0.094</td>\n",
       "      <td>1.000</td>\n",
       "      <td>0.089</td>\n",
       "      <td>0.299</td>\n",
       "      <td>0.401</td>\n",
       "      <td>0.839</td>\n",
       "      <td>-0.194</td>\n",
       "      <td>-0.027</td>\n",
       "      <td>-0.451</td>\n",
       "      <td>-0.098</td>\n",
       "    </tr>\n",
       "    <tr>\n",
       "      <th>chlorides</th>\n",
       "      <td>0.023</td>\n",
       "      <td>0.071</td>\n",
       "      <td>0.114</td>\n",
       "      <td>0.089</td>\n",
       "      <td>1.000</td>\n",
       "      <td>0.101</td>\n",
       "      <td>0.199</td>\n",
       "      <td>0.257</td>\n",
       "      <td>-0.090</td>\n",
       "      <td>0.017</td>\n",
       "      <td>-0.360</td>\n",
       "      <td>-0.210</td>\n",
       "    </tr>\n",
       "    <tr>\n",
       "      <th>free-sulfur-dioxide</th>\n",
       "      <td>-0.049</td>\n",
       "      <td>-0.097</td>\n",
       "      <td>0.094</td>\n",
       "      <td>0.299</td>\n",
       "      <td>0.101</td>\n",
       "      <td>1.000</td>\n",
       "      <td>0.616</td>\n",
       "      <td>0.294</td>\n",
       "      <td>-0.001</td>\n",
       "      <td>0.059</td>\n",
       "      <td>-0.250</td>\n",
       "      <td>0.008</td>\n",
       "    </tr>\n",
       "    <tr>\n",
       "      <th>total-sulfur-dioxide</th>\n",
       "      <td>0.091</td>\n",
       "      <td>0.089</td>\n",
       "      <td>0.121</td>\n",
       "      <td>0.401</td>\n",
       "      <td>0.199</td>\n",
       "      <td>0.616</td>\n",
       "      <td>1.000</td>\n",
       "      <td>0.530</td>\n",
       "      <td>0.002</td>\n",
       "      <td>0.135</td>\n",
       "      <td>-0.449</td>\n",
       "      <td>-0.175</td>\n",
       "    </tr>\n",
       "    <tr>\n",
       "      <th>density</th>\n",
       "      <td>0.265</td>\n",
       "      <td>0.027</td>\n",
       "      <td>0.150</td>\n",
       "      <td>0.839</td>\n",
       "      <td>0.257</td>\n",
       "      <td>0.294</td>\n",
       "      <td>0.530</td>\n",
       "      <td>1.000</td>\n",
       "      <td>-0.094</td>\n",
       "      <td>0.074</td>\n",
       "      <td>-0.780</td>\n",
       "      <td>-0.307</td>\n",
       "    </tr>\n",
       "    <tr>\n",
       "      <th>ph</th>\n",
       "      <td>-0.426</td>\n",
       "      <td>-0.032</td>\n",
       "      <td>-0.164</td>\n",
       "      <td>-0.194</td>\n",
       "      <td>-0.090</td>\n",
       "      <td>-0.001</td>\n",
       "      <td>0.002</td>\n",
       "      <td>-0.094</td>\n",
       "      <td>1.000</td>\n",
       "      <td>0.156</td>\n",
       "      <td>0.121</td>\n",
       "      <td>0.099</td>\n",
       "    </tr>\n",
       "    <tr>\n",
       "      <th>sulphates</th>\n",
       "      <td>-0.017</td>\n",
       "      <td>-0.036</td>\n",
       "      <td>0.062</td>\n",
       "      <td>-0.027</td>\n",
       "      <td>0.017</td>\n",
       "      <td>0.059</td>\n",
       "      <td>0.135</td>\n",
       "      <td>0.074</td>\n",
       "      <td>0.156</td>\n",
       "      <td>1.000</td>\n",
       "      <td>-0.017</td>\n",
       "      <td>0.054</td>\n",
       "    </tr>\n",
       "    <tr>\n",
       "      <th>alcohol</th>\n",
       "      <td>-0.121</td>\n",
       "      <td>0.068</td>\n",
       "      <td>-0.076</td>\n",
       "      <td>-0.451</td>\n",
       "      <td>-0.360</td>\n",
       "      <td>-0.250</td>\n",
       "      <td>-0.449</td>\n",
       "      <td>-0.780</td>\n",
       "      <td>0.121</td>\n",
       "      <td>-0.017</td>\n",
       "      <td>1.000</td>\n",
       "      <td>0.436</td>\n",
       "    </tr>\n",
       "    <tr>\n",
       "      <th>quality</th>\n",
       "      <td>-0.114</td>\n",
       "      <td>-0.195</td>\n",
       "      <td>-0.009</td>\n",
       "      <td>-0.098</td>\n",
       "      <td>-0.210</td>\n",
       "      <td>0.008</td>\n",
       "      <td>-0.175</td>\n",
       "      <td>-0.307</td>\n",
       "      <td>0.099</td>\n",
       "      <td>0.054</td>\n",
       "      <td>0.436</td>\n",
       "      <td>1.000</td>\n",
       "    </tr>\n",
       "  </tbody>\n",
       "</table>\n",
       "</div>"
      ],
      "text/plain": [
       "                      fixed-acidity  volatile-acidity  citric-acid  \\\n",
       "fixed-acidity                 1.000            -0.023        0.289   \n",
       "volatile-acidity             -0.023             1.000       -0.149   \n",
       "citric-acid                   0.289            -0.149        1.000   \n",
       "residual-sugar                0.089             0.064        0.094   \n",
       "chlorides                     0.023             0.071        0.114   \n",
       "free-sulfur-dioxide          -0.049            -0.097        0.094   \n",
       "total-sulfur-dioxide          0.091             0.089        0.121   \n",
       "density                       0.265             0.027        0.150   \n",
       "ph                           -0.426            -0.032       -0.164   \n",
       "sulphates                    -0.017            -0.036        0.062   \n",
       "alcohol                      -0.121             0.068       -0.076   \n",
       "quality                      -0.114            -0.195       -0.009   \n",
       "\n",
       "                      residual-sugar  chlorides  free-sulfur-dioxide  \\\n",
       "fixed-acidity                  0.089      0.023               -0.049   \n",
       "volatile-acidity               0.064      0.071               -0.097   \n",
       "citric-acid                    0.094      0.114                0.094   \n",
       "residual-sugar                 1.000      0.089                0.299   \n",
       "chlorides                      0.089      1.000                0.101   \n",
       "free-sulfur-dioxide            0.299      0.101                1.000   \n",
       "total-sulfur-dioxide           0.401      0.199                0.616   \n",
       "density                        0.839      0.257                0.294   \n",
       "ph                            -0.194     -0.090               -0.001   \n",
       "sulphates                     -0.027      0.017                0.059   \n",
       "alcohol                       -0.451     -0.360               -0.250   \n",
       "quality                       -0.098     -0.210                0.008   \n",
       "\n",
       "                      total-sulfur-dioxide  density     ph  sulphates  \\\n",
       "fixed-acidity                        0.091    0.265 -0.426     -0.017   \n",
       "volatile-acidity                     0.089    0.027 -0.032     -0.036   \n",
       "citric-acid                          0.121    0.150 -0.164      0.062   \n",
       "residual-sugar                       0.401    0.839 -0.194     -0.027   \n",
       "chlorides                            0.199    0.257 -0.090      0.017   \n",
       "free-sulfur-dioxide                  0.616    0.294 -0.001      0.059   \n",
       "total-sulfur-dioxide                 1.000    0.530  0.002      0.135   \n",
       "density                              0.530    1.000 -0.094      0.074   \n",
       "ph                                   0.002   -0.094  1.000      0.156   \n",
       "sulphates                            0.135    0.074  0.156      1.000   \n",
       "alcohol                             -0.449   -0.780  0.121     -0.017   \n",
       "quality                             -0.175   -0.307  0.099      0.054   \n",
       "\n",
       "                      alcohol  quality  \n",
       "fixed-acidity          -0.121   -0.114  \n",
       "volatile-acidity        0.068   -0.195  \n",
       "citric-acid            -0.076   -0.009  \n",
       "residual-sugar         -0.451   -0.098  \n",
       "chlorides              -0.360   -0.210  \n",
       "free-sulfur-dioxide    -0.250    0.008  \n",
       "total-sulfur-dioxide   -0.449   -0.175  \n",
       "density                -0.780   -0.307  \n",
       "ph                      0.121    0.099  \n",
       "sulphates              -0.017    0.054  \n",
       "alcohol                 1.000    0.436  \n",
       "quality                 0.436    1.000  "
      ]
     },
     "execution_count": 9,
     "metadata": {},
     "output_type": "execute_result"
    }
   ],
   "source": [
    "round(df.corr(),3)"
   ]
  },
  {
   "cell_type": "code",
   "execution_count": 10,
   "metadata": {},
   "outputs": [],
   "source": [
    "# residual sugar and density are highly correlated with each other, \n",
    "# so, we can remove one of them\n",
    "del df['residual-sugar']"
   ]
  },
  {
   "cell_type": "markdown",
   "metadata": {},
   "source": [
    "## Try linear regression models"
   ]
  },
  {
   "cell_type": "code",
   "execution_count": 11,
   "metadata": {},
   "outputs": [],
   "source": [
    "from sklearn.model_selection import train_test_split"
   ]
  },
  {
   "cell_type": "code",
   "execution_count": 12,
   "metadata": {},
   "outputs": [],
   "source": [
    "df_full_train, df_test = train_test_split(df, test_size = 0.2, random_state = 42)\n",
    "df_train, df_val = train_test_split(df_full_train, test_size = 0.25, random_state = 42)\n",
    "\n",
    "df_train = df_train.reset_index(drop = True)\n",
    "df_val = df_val.reset_index(drop = True)\n",
    "df_test = df_test.reset_index(drop = True)\n",
    "\n",
    "y_train = df_train.quality.values\n",
    "y_val = df_val.quality.values\n",
    "y_test = df_test.quality.values\n",
    "\n",
    "del df_train['quality']\n",
    "del df_val['quality']\n",
    "del df_test['quality']"
   ]
  },
  {
   "cell_type": "code",
   "execution_count": 13,
   "metadata": {},
   "outputs": [],
   "source": [
    "X_train = df_train.values\n",
    "X_val = df_val.values\n",
    "X_test = df_test.values"
   ]
  },
  {
   "cell_type": "code",
   "execution_count": 51,
   "metadata": {},
   "outputs": [],
   "source": [
    "from sklearn.linear_model import LinearRegression, Ridge, Lasso, ElasticNet\n",
    "from sklearn.metrics import mean_squared_error, root_mean_squared_error"
   ]
  },
  {
   "cell_type": "markdown",
   "metadata": {},
   "source": [
    "### Simple linear regression"
   ]
  },
  {
   "cell_type": "code",
   "execution_count": 54,
   "metadata": {},
   "outputs": [
    {
     "data": {
      "text/plain": [
       "np.float64(0.894)"
      ]
     },
     "execution_count": 54,
     "metadata": {},
     "output_type": "execute_result"
    }
   ],
   "source": [
    "y_train_pred_dumb = [y_train.mean()]*len(y_train)\n",
    "round(root_mean_squared_error(y_train, y_train_pred_dumb), 3)"
   ]
  },
  {
   "cell_type": "markdown",
   "metadata": {},
   "source": [
    "Baseline MRSE: 0.894"
   ]
  },
  {
   "cell_type": "code",
   "execution_count": 15,
   "metadata": {},
   "outputs": [
    {
     "data": {
      "text/html": [
       "<style>#sk-container-id-1 {\n",
       "  /* Definition of color scheme common for light and dark mode */\n",
       "  --sklearn-color-text: black;\n",
       "  --sklearn-color-line: gray;\n",
       "  /* Definition of color scheme for unfitted estimators */\n",
       "  --sklearn-color-unfitted-level-0: #fff5e6;\n",
       "  --sklearn-color-unfitted-level-1: #f6e4d2;\n",
       "  --sklearn-color-unfitted-level-2: #ffe0b3;\n",
       "  --sklearn-color-unfitted-level-3: chocolate;\n",
       "  /* Definition of color scheme for fitted estimators */\n",
       "  --sklearn-color-fitted-level-0: #f0f8ff;\n",
       "  --sklearn-color-fitted-level-1: #d4ebff;\n",
       "  --sklearn-color-fitted-level-2: #b3dbfd;\n",
       "  --sklearn-color-fitted-level-3: cornflowerblue;\n",
       "\n",
       "  /* Specific color for light theme */\n",
       "  --sklearn-color-text-on-default-background: var(--sg-text-color, var(--theme-code-foreground, var(--jp-content-font-color1, black)));\n",
       "  --sklearn-color-background: var(--sg-background-color, var(--theme-background, var(--jp-layout-color0, white)));\n",
       "  --sklearn-color-border-box: var(--sg-text-color, var(--theme-code-foreground, var(--jp-content-font-color1, black)));\n",
       "  --sklearn-color-icon: #696969;\n",
       "\n",
       "  @media (prefers-color-scheme: dark) {\n",
       "    /* Redefinition of color scheme for dark theme */\n",
       "    --sklearn-color-text-on-default-background: var(--sg-text-color, var(--theme-code-foreground, var(--jp-content-font-color1, white)));\n",
       "    --sklearn-color-background: var(--sg-background-color, var(--theme-background, var(--jp-layout-color0, #111)));\n",
       "    --sklearn-color-border-box: var(--sg-text-color, var(--theme-code-foreground, var(--jp-content-font-color1, white)));\n",
       "    --sklearn-color-icon: #878787;\n",
       "  }\n",
       "}\n",
       "\n",
       "#sk-container-id-1 {\n",
       "  color: var(--sklearn-color-text);\n",
       "}\n",
       "\n",
       "#sk-container-id-1 pre {\n",
       "  padding: 0;\n",
       "}\n",
       "\n",
       "#sk-container-id-1 input.sk-hidden--visually {\n",
       "  border: 0;\n",
       "  clip: rect(1px 1px 1px 1px);\n",
       "  clip: rect(1px, 1px, 1px, 1px);\n",
       "  height: 1px;\n",
       "  margin: -1px;\n",
       "  overflow: hidden;\n",
       "  padding: 0;\n",
       "  position: absolute;\n",
       "  width: 1px;\n",
       "}\n",
       "\n",
       "#sk-container-id-1 div.sk-dashed-wrapped {\n",
       "  border: 1px dashed var(--sklearn-color-line);\n",
       "  margin: 0 0.4em 0.5em 0.4em;\n",
       "  box-sizing: border-box;\n",
       "  padding-bottom: 0.4em;\n",
       "  background-color: var(--sklearn-color-background);\n",
       "}\n",
       "\n",
       "#sk-container-id-1 div.sk-container {\n",
       "  /* jupyter's `normalize.less` sets `[hidden] { display: none; }`\n",
       "     but bootstrap.min.css set `[hidden] { display: none !important; }`\n",
       "     so we also need the `!important` here to be able to override the\n",
       "     default hidden behavior on the sphinx rendered scikit-learn.org.\n",
       "     See: https://github.com/scikit-learn/scikit-learn/issues/21755 */\n",
       "  display: inline-block !important;\n",
       "  position: relative;\n",
       "}\n",
       "\n",
       "#sk-container-id-1 div.sk-text-repr-fallback {\n",
       "  display: none;\n",
       "}\n",
       "\n",
       "div.sk-parallel-item,\n",
       "div.sk-serial,\n",
       "div.sk-item {\n",
       "  /* draw centered vertical line to link estimators */\n",
       "  background-image: linear-gradient(var(--sklearn-color-text-on-default-background), var(--sklearn-color-text-on-default-background));\n",
       "  background-size: 2px 100%;\n",
       "  background-repeat: no-repeat;\n",
       "  background-position: center center;\n",
       "}\n",
       "\n",
       "/* Parallel-specific style estimator block */\n",
       "\n",
       "#sk-container-id-1 div.sk-parallel-item::after {\n",
       "  content: \"\";\n",
       "  width: 100%;\n",
       "  border-bottom: 2px solid var(--sklearn-color-text-on-default-background);\n",
       "  flex-grow: 1;\n",
       "}\n",
       "\n",
       "#sk-container-id-1 div.sk-parallel {\n",
       "  display: flex;\n",
       "  align-items: stretch;\n",
       "  justify-content: center;\n",
       "  background-color: var(--sklearn-color-background);\n",
       "  position: relative;\n",
       "}\n",
       "\n",
       "#sk-container-id-1 div.sk-parallel-item {\n",
       "  display: flex;\n",
       "  flex-direction: column;\n",
       "}\n",
       "\n",
       "#sk-container-id-1 div.sk-parallel-item:first-child::after {\n",
       "  align-self: flex-end;\n",
       "  width: 50%;\n",
       "}\n",
       "\n",
       "#sk-container-id-1 div.sk-parallel-item:last-child::after {\n",
       "  align-self: flex-start;\n",
       "  width: 50%;\n",
       "}\n",
       "\n",
       "#sk-container-id-1 div.sk-parallel-item:only-child::after {\n",
       "  width: 0;\n",
       "}\n",
       "\n",
       "/* Serial-specific style estimator block */\n",
       "\n",
       "#sk-container-id-1 div.sk-serial {\n",
       "  display: flex;\n",
       "  flex-direction: column;\n",
       "  align-items: center;\n",
       "  background-color: var(--sklearn-color-background);\n",
       "  padding-right: 1em;\n",
       "  padding-left: 1em;\n",
       "}\n",
       "\n",
       "\n",
       "/* Toggleable style: style used for estimator/Pipeline/ColumnTransformer box that is\n",
       "clickable and can be expanded/collapsed.\n",
       "- Pipeline and ColumnTransformer use this feature and define the default style\n",
       "- Estimators will overwrite some part of the style using the `sk-estimator` class\n",
       "*/\n",
       "\n",
       "/* Pipeline and ColumnTransformer style (default) */\n",
       "\n",
       "#sk-container-id-1 div.sk-toggleable {\n",
       "  /* Default theme specific background. It is overwritten whether we have a\n",
       "  specific estimator or a Pipeline/ColumnTransformer */\n",
       "  background-color: var(--sklearn-color-background);\n",
       "}\n",
       "\n",
       "/* Toggleable label */\n",
       "#sk-container-id-1 label.sk-toggleable__label {\n",
       "  cursor: pointer;\n",
       "  display: block;\n",
       "  width: 100%;\n",
       "  margin-bottom: 0;\n",
       "  padding: 0.5em;\n",
       "  box-sizing: border-box;\n",
       "  text-align: center;\n",
       "}\n",
       "\n",
       "#sk-container-id-1 label.sk-toggleable__label-arrow:before {\n",
       "  /* Arrow on the left of the label */\n",
       "  content: \"▸\";\n",
       "  float: left;\n",
       "  margin-right: 0.25em;\n",
       "  color: var(--sklearn-color-icon);\n",
       "}\n",
       "\n",
       "#sk-container-id-1 label.sk-toggleable__label-arrow:hover:before {\n",
       "  color: var(--sklearn-color-text);\n",
       "}\n",
       "\n",
       "/* Toggleable content - dropdown */\n",
       "\n",
       "#sk-container-id-1 div.sk-toggleable__content {\n",
       "  max-height: 0;\n",
       "  max-width: 0;\n",
       "  overflow: hidden;\n",
       "  text-align: left;\n",
       "  /* unfitted */\n",
       "  background-color: var(--sklearn-color-unfitted-level-0);\n",
       "}\n",
       "\n",
       "#sk-container-id-1 div.sk-toggleable__content.fitted {\n",
       "  /* fitted */\n",
       "  background-color: var(--sklearn-color-fitted-level-0);\n",
       "}\n",
       "\n",
       "#sk-container-id-1 div.sk-toggleable__content pre {\n",
       "  margin: 0.2em;\n",
       "  border-radius: 0.25em;\n",
       "  color: var(--sklearn-color-text);\n",
       "  /* unfitted */\n",
       "  background-color: var(--sklearn-color-unfitted-level-0);\n",
       "}\n",
       "\n",
       "#sk-container-id-1 div.sk-toggleable__content.fitted pre {\n",
       "  /* unfitted */\n",
       "  background-color: var(--sklearn-color-fitted-level-0);\n",
       "}\n",
       "\n",
       "#sk-container-id-1 input.sk-toggleable__control:checked~div.sk-toggleable__content {\n",
       "  /* Expand drop-down */\n",
       "  max-height: 200px;\n",
       "  max-width: 100%;\n",
       "  overflow: auto;\n",
       "}\n",
       "\n",
       "#sk-container-id-1 input.sk-toggleable__control:checked~label.sk-toggleable__label-arrow:before {\n",
       "  content: \"▾\";\n",
       "}\n",
       "\n",
       "/* Pipeline/ColumnTransformer-specific style */\n",
       "\n",
       "#sk-container-id-1 div.sk-label input.sk-toggleable__control:checked~label.sk-toggleable__label {\n",
       "  color: var(--sklearn-color-text);\n",
       "  background-color: var(--sklearn-color-unfitted-level-2);\n",
       "}\n",
       "\n",
       "#sk-container-id-1 div.sk-label.fitted input.sk-toggleable__control:checked~label.sk-toggleable__label {\n",
       "  background-color: var(--sklearn-color-fitted-level-2);\n",
       "}\n",
       "\n",
       "/* Estimator-specific style */\n",
       "\n",
       "/* Colorize estimator box */\n",
       "#sk-container-id-1 div.sk-estimator input.sk-toggleable__control:checked~label.sk-toggleable__label {\n",
       "  /* unfitted */\n",
       "  background-color: var(--sklearn-color-unfitted-level-2);\n",
       "}\n",
       "\n",
       "#sk-container-id-1 div.sk-estimator.fitted input.sk-toggleable__control:checked~label.sk-toggleable__label {\n",
       "  /* fitted */\n",
       "  background-color: var(--sklearn-color-fitted-level-2);\n",
       "}\n",
       "\n",
       "#sk-container-id-1 div.sk-label label.sk-toggleable__label,\n",
       "#sk-container-id-1 div.sk-label label {\n",
       "  /* The background is the default theme color */\n",
       "  color: var(--sklearn-color-text-on-default-background);\n",
       "}\n",
       "\n",
       "/* On hover, darken the color of the background */\n",
       "#sk-container-id-1 div.sk-label:hover label.sk-toggleable__label {\n",
       "  color: var(--sklearn-color-text);\n",
       "  background-color: var(--sklearn-color-unfitted-level-2);\n",
       "}\n",
       "\n",
       "/* Label box, darken color on hover, fitted */\n",
       "#sk-container-id-1 div.sk-label.fitted:hover label.sk-toggleable__label.fitted {\n",
       "  color: var(--sklearn-color-text);\n",
       "  background-color: var(--sklearn-color-fitted-level-2);\n",
       "}\n",
       "\n",
       "/* Estimator label */\n",
       "\n",
       "#sk-container-id-1 div.sk-label label {\n",
       "  font-family: monospace;\n",
       "  font-weight: bold;\n",
       "  display: inline-block;\n",
       "  line-height: 1.2em;\n",
       "}\n",
       "\n",
       "#sk-container-id-1 div.sk-label-container {\n",
       "  text-align: center;\n",
       "}\n",
       "\n",
       "/* Estimator-specific */\n",
       "#sk-container-id-1 div.sk-estimator {\n",
       "  font-family: monospace;\n",
       "  border: 1px dotted var(--sklearn-color-border-box);\n",
       "  border-radius: 0.25em;\n",
       "  box-sizing: border-box;\n",
       "  margin-bottom: 0.5em;\n",
       "  /* unfitted */\n",
       "  background-color: var(--sklearn-color-unfitted-level-0);\n",
       "}\n",
       "\n",
       "#sk-container-id-1 div.sk-estimator.fitted {\n",
       "  /* fitted */\n",
       "  background-color: var(--sklearn-color-fitted-level-0);\n",
       "}\n",
       "\n",
       "/* on hover */\n",
       "#sk-container-id-1 div.sk-estimator:hover {\n",
       "  /* unfitted */\n",
       "  background-color: var(--sklearn-color-unfitted-level-2);\n",
       "}\n",
       "\n",
       "#sk-container-id-1 div.sk-estimator.fitted:hover {\n",
       "  /* fitted */\n",
       "  background-color: var(--sklearn-color-fitted-level-2);\n",
       "}\n",
       "\n",
       "/* Specification for estimator info (e.g. \"i\" and \"?\") */\n",
       "\n",
       "/* Common style for \"i\" and \"?\" */\n",
       "\n",
       ".sk-estimator-doc-link,\n",
       "a:link.sk-estimator-doc-link,\n",
       "a:visited.sk-estimator-doc-link {\n",
       "  float: right;\n",
       "  font-size: smaller;\n",
       "  line-height: 1em;\n",
       "  font-family: monospace;\n",
       "  background-color: var(--sklearn-color-background);\n",
       "  border-radius: 1em;\n",
       "  height: 1em;\n",
       "  width: 1em;\n",
       "  text-decoration: none !important;\n",
       "  margin-left: 1ex;\n",
       "  /* unfitted */\n",
       "  border: var(--sklearn-color-unfitted-level-1) 1pt solid;\n",
       "  color: var(--sklearn-color-unfitted-level-1);\n",
       "}\n",
       "\n",
       ".sk-estimator-doc-link.fitted,\n",
       "a:link.sk-estimator-doc-link.fitted,\n",
       "a:visited.sk-estimator-doc-link.fitted {\n",
       "  /* fitted */\n",
       "  border: var(--sklearn-color-fitted-level-1) 1pt solid;\n",
       "  color: var(--sklearn-color-fitted-level-1);\n",
       "}\n",
       "\n",
       "/* On hover */\n",
       "div.sk-estimator:hover .sk-estimator-doc-link:hover,\n",
       ".sk-estimator-doc-link:hover,\n",
       "div.sk-label-container:hover .sk-estimator-doc-link:hover,\n",
       ".sk-estimator-doc-link:hover {\n",
       "  /* unfitted */\n",
       "  background-color: var(--sklearn-color-unfitted-level-3);\n",
       "  color: var(--sklearn-color-background);\n",
       "  text-decoration: none;\n",
       "}\n",
       "\n",
       "div.sk-estimator.fitted:hover .sk-estimator-doc-link.fitted:hover,\n",
       ".sk-estimator-doc-link.fitted:hover,\n",
       "div.sk-label-container:hover .sk-estimator-doc-link.fitted:hover,\n",
       ".sk-estimator-doc-link.fitted:hover {\n",
       "  /* fitted */\n",
       "  background-color: var(--sklearn-color-fitted-level-3);\n",
       "  color: var(--sklearn-color-background);\n",
       "  text-decoration: none;\n",
       "}\n",
       "\n",
       "/* Span, style for the box shown on hovering the info icon */\n",
       ".sk-estimator-doc-link span {\n",
       "  display: none;\n",
       "  z-index: 9999;\n",
       "  position: relative;\n",
       "  font-weight: normal;\n",
       "  right: .2ex;\n",
       "  padding: .5ex;\n",
       "  margin: .5ex;\n",
       "  width: min-content;\n",
       "  min-width: 20ex;\n",
       "  max-width: 50ex;\n",
       "  color: var(--sklearn-color-text);\n",
       "  box-shadow: 2pt 2pt 4pt #999;\n",
       "  /* unfitted */\n",
       "  background: var(--sklearn-color-unfitted-level-0);\n",
       "  border: .5pt solid var(--sklearn-color-unfitted-level-3);\n",
       "}\n",
       "\n",
       ".sk-estimator-doc-link.fitted span {\n",
       "  /* fitted */\n",
       "  background: var(--sklearn-color-fitted-level-0);\n",
       "  border: var(--sklearn-color-fitted-level-3);\n",
       "}\n",
       "\n",
       ".sk-estimator-doc-link:hover span {\n",
       "  display: block;\n",
       "}\n",
       "\n",
       "/* \"?\"-specific style due to the `<a>` HTML tag */\n",
       "\n",
       "#sk-container-id-1 a.estimator_doc_link {\n",
       "  float: right;\n",
       "  font-size: 1rem;\n",
       "  line-height: 1em;\n",
       "  font-family: monospace;\n",
       "  background-color: var(--sklearn-color-background);\n",
       "  border-radius: 1rem;\n",
       "  height: 1rem;\n",
       "  width: 1rem;\n",
       "  text-decoration: none;\n",
       "  /* unfitted */\n",
       "  color: var(--sklearn-color-unfitted-level-1);\n",
       "  border: var(--sklearn-color-unfitted-level-1) 1pt solid;\n",
       "}\n",
       "\n",
       "#sk-container-id-1 a.estimator_doc_link.fitted {\n",
       "  /* fitted */\n",
       "  border: var(--sklearn-color-fitted-level-1) 1pt solid;\n",
       "  color: var(--sklearn-color-fitted-level-1);\n",
       "}\n",
       "\n",
       "/* On hover */\n",
       "#sk-container-id-1 a.estimator_doc_link:hover {\n",
       "  /* unfitted */\n",
       "  background-color: var(--sklearn-color-unfitted-level-3);\n",
       "  color: var(--sklearn-color-background);\n",
       "  text-decoration: none;\n",
       "}\n",
       "\n",
       "#sk-container-id-1 a.estimator_doc_link.fitted:hover {\n",
       "  /* fitted */\n",
       "  background-color: var(--sklearn-color-fitted-level-3);\n",
       "}\n",
       "</style><div id=\"sk-container-id-1\" class=\"sk-top-container\"><div class=\"sk-text-repr-fallback\"><pre>LinearRegression()</pre><b>In a Jupyter environment, please rerun this cell to show the HTML representation or trust the notebook. <br />On GitHub, the HTML representation is unable to render, please try loading this page with nbviewer.org.</b></div><div class=\"sk-container\" hidden><div class=\"sk-item\"><div class=\"sk-estimator fitted sk-toggleable\"><input class=\"sk-toggleable__control sk-hidden--visually\" id=\"sk-estimator-id-1\" type=\"checkbox\" checked><label for=\"sk-estimator-id-1\" class=\"sk-toggleable__label fitted sk-toggleable__label-arrow fitted\">&nbsp;&nbsp;LinearRegression<a class=\"sk-estimator-doc-link fitted\" rel=\"noreferrer\" target=\"_blank\" href=\"https://scikit-learn.org/1.5/modules/generated/sklearn.linear_model.LinearRegression.html\">?<span>Documentation for LinearRegression</span></a><span class=\"sk-estimator-doc-link fitted\">i<span>Fitted</span></span></label><div class=\"sk-toggleable__content fitted\"><pre>LinearRegression()</pre></div> </div></div></div></div>"
      ],
      "text/plain": [
       "LinearRegression()"
      ]
     },
     "execution_count": 15,
     "metadata": {},
     "output_type": "execute_result"
    }
   ],
   "source": [
    "model_lr = LinearRegression()\n",
    "model_lr.fit(X_train, y_train)"
   ]
  },
  {
   "cell_type": "code",
   "execution_count": 22,
   "metadata": {},
   "outputs": [
    {
     "data": {
      "text/plain": [
       "(np.float64(-34.04320946360774),\n",
       " array([-9.69571799e-02, -1.97631331e+00, -2.04424529e-02, -1.02094875e+00,\n",
       "         7.63303421e-03, -8.28896055e-04,  3.68903119e+01,  1.96344367e-02,\n",
       "         4.52072823e-01,  3.86788557e-01]))"
      ]
     },
     "execution_count": 22,
     "metadata": {},
     "output_type": "execute_result"
    }
   ],
   "source": [
    "model_lr.intercept_, model_lr.coef_"
   ]
  },
  {
   "cell_type": "code",
   "execution_count": 17,
   "metadata": {},
   "outputs": [],
   "source": [
    "y_val_pred = model_lr.predict(X_val)"
   ]
  },
  {
   "cell_type": "code",
   "execution_count": 55,
   "metadata": {},
   "outputs": [
    {
     "data": {
      "text/plain": [
       "np.float64(0.7003020723248672)"
      ]
     },
     "execution_count": 55,
     "metadata": {},
     "output_type": "execute_result"
    }
   ],
   "source": [
    "root_mean_squared_error(y_val, y_val_pred)"
   ]
  },
  {
   "cell_type": "markdown",
   "metadata": {},
   "source": [
    "### Ridge (l2 normamlization)"
   ]
  },
  {
   "cell_type": "code",
   "execution_count": 24,
   "metadata": {},
   "outputs": [],
   "source": [
    "def round_(x):\n",
    "    return float(round(x, 3))"
   ]
  },
  {
   "cell_type": "code",
   "execution_count": 56,
   "metadata": {},
   "outputs": [
    {
     "name": "stdout",
     "output_type": "stream",
     "text": [
      "0.001 \t 0.737\n",
      "-29.518 [-0.094, -1.968, -0.017, -1.048, 0.008, -0.001, 32.368, 0.026, 0.455, 0.379] \n",
      "\n",
      "0.005 \t 0.738\n",
      "-18.864 [-0.087, -1.95, -0.01, -1.11, 0.008, -0.001, 21.718, 0.04, 0.463, 0.361] \n",
      "\n",
      "0.01 \t 0.74\n",
      "-12.534 [-0.083, -1.939, -0.006, -1.143, 0.008, -0.001, 15.39, 0.048, 0.468, 0.35] \n",
      "\n",
      "0.05 \t 0.742\n",
      "-1.767 [-0.076, -1.918, 0.001, -1.17, 0.008, -0.0, 4.622, 0.063, 0.476, 0.332] \n",
      "\n",
      "0.1 \t 0.743\n",
      "0.381 [-0.074, -1.912, 0.002, -1.137, 0.008, -0.0, 2.467, 0.067, 0.477, 0.329] \n",
      "\n",
      "0.5 \t 0.744\n",
      "2.279 [-0.072, -1.885, 0.0, -0.879, 0.008, -0.0, 0.523, 0.074, 0.475, 0.327] \n",
      "\n",
      "1 \t 0.744\n",
      "2.501 [-0.072, -1.855, 0.001, -0.683, 0.008, -0.0, 0.263, 0.078, 0.47, 0.327] \n",
      "\n",
      "5 \t 0.744\n",
      "2.592 [-0.069, -1.634, 0.019, -0.257, 0.008, -0.001, 0.051, 0.094, 0.438, 0.327] \n",
      "\n",
      "10 \t 0.745\n",
      "2.561 [-0.068, -1.42, 0.037, -0.151, 0.009, -0.001, 0.025, 0.103, 0.402, 0.325] \n",
      "\n"
     ]
    }
   ],
   "source": [
    "alpha = [0.001, 0.005, 0.01, 0.05, 0.1, 0.5, 1, 5, 10]\n",
    "for a in alpha:\n",
    "    model_ridge = Ridge(alpha = a, random_state = 42)\n",
    "    model_ridge.fit(X_train, y_train)\n",
    "    y_val_pred = model_ridge.predict(X_val)\n",
    "    print(a, '\\t', round_(root_mean_squared_error(y_val, y_val_pred)))\n",
    "    print(round_(model_ridge.intercept_), list(map(round_, model_ridge.coef_)), '\\n')"
   ]
  },
  {
   "cell_type": "code",
   "execution_count": 104,
   "metadata": {},
   "outputs": [
    {
     "name": "stdout",
     "output_type": "stream",
     "text": [
      "0.742\n",
      "-1.767 [-0.076, -1.918, 0.001, -1.17, 0.008, -0.0, 4.622, 0.063, 0.476, 0.332]\n"
     ]
    }
   ],
   "source": [
    "model_ridge = Ridge(alpha = 0.05, random_state = 42)\n",
    "model_ridge.fit(X_train, y_train)\n",
    "y_val_pred = model_ridge.predict(X_val)\n",
    "print(round_(root_mean_squared_error(y_val, y_val_pred)))\n",
    "print(round_(model_ridge.intercept_), list(map(round_, model_ridge.coef_)))"
   ]
  },
  {
   "cell_type": "code",
   "execution_count": 20,
   "metadata": {},
   "outputs": [
    {
     "data": {
      "text/plain": [
       "Index(['fixed-acidity', 'volatile-acidity', 'citric-acid', 'chlorides',\n",
       "       'free-sulfur-dioxide', 'total-sulfur-dioxide', 'density', 'ph',\n",
       "       'sulphates', 'alcohol'],\n",
       "      dtype='object')"
      ]
     },
     "execution_count": 20,
     "metadata": {},
     "output_type": "execute_result"
    }
   ],
   "source": [
    "df_train.columns"
   ]
  },
  {
   "cell_type": "markdown",
   "metadata": {},
   "source": [
    "The best alpha is 0 but has large w0 and cooficient for density seems to large"
   ]
  },
  {
   "cell_type": "markdown",
   "metadata": {},
   "source": [
    "### Lasso"
   ]
  },
  {
   "cell_type": "code",
   "execution_count": 57,
   "metadata": {},
   "outputs": [
    {
     "name": "stdout",
     "output_type": "stream",
     "text": [
      "0.001 \t 0.744\n",
      "2.823 [-0.072, -1.833, -0.0, -0.0, 0.008, -0.0, 0.0, 0.045, 0.414, 0.331] \n",
      "\n",
      "0.005 \t 0.744\n",
      "3.037 [-0.069, -1.44, 0.0, -0.0, 0.008, -0.001, 0.0, 0.0, 0.141, 0.326] \n",
      "\n",
      "0.01 \t 0.749\n",
      "3.014 [-0.06, -0.923, 0.0, -0.0, 0.009, -0.001, 0.0, 0.0, 0.0, 0.317] \n",
      "\n",
      "0.05 \t 0.766\n",
      "2.869 [-0.001, -0.0, 0.0, -0.0, 0.011, -0.002, -0.0, 0.0, 0.0, 0.278] \n",
      "\n",
      "0.1 \t 0.771\n",
      "3.364 [-0.0, -0.0, 0.0, -0.0, 0.011, -0.003, -0.0, 0.0, 0.0, 0.237] \n",
      "\n",
      "0.5 \t 0.844\n",
      "6.255 [-0.0, -0.0, 0.0, -0.0, 0.008, -0.005, -0.0, 0.0, 0.0, 0.0] \n",
      "\n",
      "1 \t 0.846\n",
      "6.222 [-0.0, -0.0, 0.0, -0.0, 0.005, -0.004, -0.0, 0.0, 0.0, 0.0] \n",
      "\n",
      "5 \t 0.863\n",
      "5.92 [-0.0, -0.0, -0.0, -0.0, 0.0, -0.0, -0.0, 0.0, 0.0, 0.0] \n",
      "\n",
      "10 \t 0.866\n",
      "5.865 [-0.0, -0.0, -0.0, -0.0, 0.0, -0.0, -0.0, 0.0, 0.0, 0.0] \n",
      "\n"
     ]
    }
   ],
   "source": [
    "alpha = [0.001, 0.005, 0.01, 0.05, 0.1, 0.5, 1, 5, 10]\n",
    "for a in alpha:\n",
    "    model_lasso = Lasso(alpha = a, random_state = 42)\n",
    "    model_lasso.fit(X_train, y_train)\n",
    "    y_val_pred = model_lasso.predict(X_val)\n",
    "    print(a, '\\t', round_(root_mean_squared_error(y_val, y_val_pred)))\n",
    "    print(round_(model_lasso.intercept_), list(map(round_, model_lasso.coef_)), '\\n')"
   ]
  },
  {
   "cell_type": "code",
   "execution_count": 103,
   "metadata": {},
   "outputs": [
    {
     "name": "stdout",
     "output_type": "stream",
     "text": [
      "0.744\n",
      "2.823 [-0.072, -1.833, -0.0, -0.0, 0.008, -0.0, 0.0, 0.045, 0.414, 0.331] \n",
      "\n"
     ]
    }
   ],
   "source": [
    "model_lasso = Lasso(alpha =0.001, random_state = 42)\n",
    "model_lasso.fit(X_train, y_train)\n",
    "y_val_pred = model_lasso.predict(X_val)\n",
    "print(round_(root_mean_squared_error(y_val, y_val_pred)))\n",
    "print(round_(model_lasso.intercept_), list(map(round_, model_lasso.coef_)), '\\n')"
   ]
  },
  {
   "cell_type": "markdown",
   "metadata": {},
   "source": [
    "Lasso model performs much worse"
   ]
  },
  {
   "cell_type": "markdown",
   "metadata": {},
   "source": [
    "## Decision tree based models"
   ]
  },
  {
   "cell_type": "markdown",
   "metadata": {},
   "source": [
    "### Simple decision tree model"
   ]
  },
  {
   "cell_type": "code",
   "execution_count": 82,
   "metadata": {},
   "outputs": [],
   "source": [
    "from sklearn.tree import DecisionTreeRegressor\n",
    "from sklearn.tree import export_text"
   ]
  },
  {
   "cell_type": "code",
   "execution_count": 83,
   "metadata": {},
   "outputs": [
    {
     "name": "stdout",
     "output_type": "stream",
     "text": [
      "0.78\n"
     ]
    }
   ],
   "source": [
    "model_tree = DecisionTreeRegressor(max_depth=1, random_state=42)\n",
    "model_tree.fit(X_train, y_train)\n",
    "y_val_pred = model_tree.predict(X_val)\n",
    "print(round_(root_mean_squared_error(y_val, y_val_pred)))\n"
   ]
  },
  {
   "cell_type": "code",
   "execution_count": 84,
   "metadata": {},
   "outputs": [
    {
     "name": "stdout",
     "output_type": "stream",
     "text": [
      "|--- alcohol <= 10.85\n",
      "|   |--- value: [5.60]\n",
      "|--- alcohol >  10.85\n",
      "|   |--- value: [6.32]\n",
      "\n"
     ]
    }
   ],
   "source": [
    "print(export_text(model_tree, feature_names = list(df_train.columns)))"
   ]
  },
  {
   "cell_type": "code",
   "execution_count": 85,
   "metadata": {},
   "outputs": [
    {
     "name": "stdout",
     "output_type": "stream",
     "text": [
      "(8, 64, np.float64(0.709))\n",
      "(16, 64, np.float64(0.709))\n",
      "(32, 64, np.float64(0.709))\n",
      "(4, 64, np.float64(0.711))\n",
      "(4, 32, np.float64(0.715))\n",
      "(4, 4, np.float64(0.717))\n",
      "(4, 8, np.float64(0.717))\n",
      "(4, 16, np.float64(0.718))\n",
      "(8, 128, np.float64(0.718))\n",
      "(16, 128, np.float64(0.718))\n"
     ]
    }
   ],
   "source": [
    "max_depth = [1, 2, 4, 8, 16, 32]\n",
    "min_samples_leaf = [1, 2, 4, 8, 16, 32, 64, 128]\n",
    "scores = []\n",
    "for d in max_depth:\n",
    "    for s in min_samples_leaf:\n",
    "        model_tree = DecisionTreeRegressor(min_samples_leaf=s, max_depth= d, random_state=42)\n",
    "        model_tree.fit(X_train, y_train)\n",
    "        y_val_pred = model_tree.predict(X_val)\n",
    "        scores.append((d, s, round(root_mean_squared_error(y_val, y_val_pred), 3)))\n",
    "        # print('d:', d, '\\ts:', s, '\\t', round_(mean_squared_error(y_val, y_val_pred)))\n",
    "\n",
    "scores = sorted(scores, key = lambda x: x[2])\n",
    "for s in scores[:10]:\n",
    "    print(s)"
   ]
  },
  {
   "cell_type": "code",
   "execution_count": 105,
   "metadata": {},
   "outputs": [
    {
     "name": "stdout",
     "output_type": "stream",
     "text": [
      "0.709\n"
     ]
    }
   ],
   "source": [
    "model_tree = DecisionTreeRegressor(min_samples_leaf=64, max_depth= 8, random_state=42)\n",
    "model_tree.fit(X_train, y_train)\n",
    "y_val_pred = model_tree.predict(X_val)\n",
    "print(round(root_mean_squared_error(y_val, y_val_pred), 3))"
   ]
  },
  {
   "cell_type": "markdown",
   "metadata": {},
   "source": [
    "### Random forest model"
   ]
  },
  {
   "cell_type": "code",
   "execution_count": 86,
   "metadata": {},
   "outputs": [],
   "source": [
    "from sklearn.ensemble import RandomForestRegressor"
   ]
  },
  {
   "cell_type": "code",
   "execution_count": 87,
   "metadata": {},
   "outputs": [
    {
     "data": {
      "text/plain": [
       "np.float64(0.635)"
      ]
     },
     "execution_count": 87,
     "metadata": {},
     "output_type": "execute_result"
    }
   ],
   "source": [
    "model_rf = RandomForestRegressor(n_estimators=10, random_state=42)\n",
    "model_rf.fit(X_train, y_train)\n",
    "y_val_pred = model_rf.predict(X_val)\n",
    "round(root_mean_squared_error(y_val, y_val_pred), 3)"
   ]
  },
  {
   "cell_type": "code",
   "execution_count": 88,
   "metadata": {},
   "outputs": [],
   "source": [
    "n_estimators = [40, 50, 70, 80, 100]\n",
    "max_depth = [4, 8, 16, 32]\n",
    "min_samples_leaf = [4, 8, 16, 32]\n",
    "scores = []\n",
    "for n in n_estimators:\n",
    "    for d in max_depth:\n",
    "        for s in min_samples_leaf:\n",
    "            model_rf = RandomForestRegressor(n_estimators=n, max_depth=d, min_samples_leaf=s, random_state=42)\n",
    "            model_rf.fit(X_train, y_train)\n",
    "            y_val_pred = model_rf.predict(X_val)\n",
    "            scores.append((n, d, s, round(root_mean_squared_error(y_val, y_val_pred), 3)))\n",
    "            # print('n:', n, '\\td:', d, '\\ts:', s, '\\t', round_(mean_squared_error(y_val, y_val_pred)))"
   ]
  },
  {
   "cell_type": "code",
   "execution_count": 89,
   "metadata": {},
   "outputs": [
    {
     "name": "stdout",
     "output_type": "stream",
     "text": [
      "(50, 32, 4, np.float64(0.613))\n",
      "(70, 32, 4, np.float64(0.613))\n",
      "(80, 32, 4, np.float64(0.613))\n",
      "(50, 16, 4, np.float64(0.614))\n",
      "(70, 16, 4, np.float64(0.614))\n",
      "(80, 16, 4, np.float64(0.614))\n",
      "(100, 32, 4, np.float64(0.614))\n",
      "(100, 16, 4, np.float64(0.615))\n",
      "(40, 16, 4, np.float64(0.616))\n",
      "(40, 32, 4, np.float64(0.616))\n"
     ]
    }
   ],
   "source": [
    "scores = sorted(scores, key = lambda x: x[3])\n",
    "for s in scores[:10]:\n",
    "    print(s)"
   ]
  },
  {
   "cell_type": "markdown",
   "metadata": {},
   "source": [
    "(50, 32, 4, np.float64(0.613)) - the best option so far, but I prefer\n",
    "(50, 16, 4, np.float64(0.614)) because it is just a bit worse but has two times less depth"
   ]
  },
  {
   "cell_type": "code",
   "execution_count": 106,
   "metadata": {},
   "outputs": [
    {
     "name": "stdout",
     "output_type": "stream",
     "text": [
      "0.614\n"
     ]
    }
   ],
   "source": [
    "model_rf = RandomForestRegressor(n_estimators=50, max_depth=16, min_samples_leaf=4, random_state=42)\n",
    "model_rf.fit(X_train, y_train)\n",
    "y_val_pred = model_rf.predict(X_val)\n",
    "print(round(root_mean_squared_error(y_val, y_val_pred), 3))"
   ]
  },
  {
   "cell_type": "code",
   "execution_count": 90,
   "metadata": {},
   "outputs": [
    {
     "data": {
      "text/plain": [
       "[(np.float64(0.45653224329871545), 'alcohol'),\n",
       " (np.float64(0.16827643755676594), 'volatile-acidity'),\n",
       " (np.float64(0.14096129353661244), 'free-sulfur-dioxide'),\n",
       " (np.float64(0.0427618434485219), 'ph'),\n",
       " (np.float64(0.042373104961224456), 'fixed-acidity'),\n",
       " (np.float64(0.03393125716932025), 'sulphates'),\n",
       " (np.float64(0.03385973513022274), 'chlorides'),\n",
       " (np.float64(0.031309236727149824), 'density'),\n",
       " (np.float64(0.026894840516532435), 'citric-acid'),\n",
       " (np.float64(0.023100007654934553), 'total-sulfur-dioxide')]"
      ]
     },
     "execution_count": 90,
     "metadata": {},
     "output_type": "execute_result"
    }
   ],
   "source": [
    "sorted(list(zip(model_rf.feature_importances_, df_train.columns)), key = lambda x: x[0], reverse = True)"
   ]
  },
  {
   "cell_type": "markdown",
   "metadata": {},
   "source": [
    "### XGBoost"
   ]
  },
  {
   "cell_type": "code",
   "execution_count": 91,
   "metadata": {},
   "outputs": [],
   "source": [
    "import xgboost as xgb"
   ]
  },
  {
   "cell_type": "code",
   "execution_count": 92,
   "metadata": {},
   "outputs": [],
   "source": [
    "features = list(df_train.columns)\n",
    "dtrain = xgb.DMatrix(X_train, label=y_train, feature_names=features)\n",
    "dval = xgb.DMatrix(X_val, label=y_val, feature_names=features)"
   ]
  },
  {
   "cell_type": "code",
   "execution_count": 99,
   "metadata": {},
   "outputs": [],
   "source": [
    "xgb_params = {\n",
    "    'eta': 0.5, \n",
    "    'max_depth': 16,\n",
    "    'min_child_weight': 1,\n",
    "    \n",
    "    'objective': 'reg:squarederror',\n",
    "    'nthread': 8,\n",
    "    \n",
    "    'seed': 42,\n",
    "    'verbosity': 1,\n",
    "}\n",
    "model_xgb = xgb.train(xgb_params, dtrain, num_boost_round=100)"
   ]
  },
  {
   "cell_type": "code",
   "execution_count": 100,
   "metadata": {},
   "outputs": [
    {
     "data": {
      "text/plain": [
       "np.float64(0.678)"
      ]
     },
     "execution_count": 100,
     "metadata": {},
     "output_type": "execute_result"
    }
   ],
   "source": [
    "y_val_pred = model_xgb.predict(dval)\n",
    "round(root_mean_squared_error(y_val, y_val_pred), 3)"
   ]
  },
  {
   "cell_type": "markdown",
   "metadata": {},
   "source": [
    "XGB couldn't show comparable accuracy"
   ]
  },
  {
   "cell_type": "markdown",
   "metadata": {},
   "source": [
    "## Check models on test set"
   ]
  },
  {
   "cell_type": "code",
   "execution_count": 109,
   "metadata": {},
   "outputs": [
    {
     "name": "stdout",
     "output_type": "stream",
     "text": [
      "Linear\t 0.773\n",
      "Ridge\t 0.776\n",
      "Lasso\t 0.777\n",
      "Tree\t 0.74\n",
      "RF\t 0.643\n",
      "XGB\t 0.676\n"
     ]
    }
   ],
   "source": [
    "y_test_pred_lr = model_lr.predict(X_test)\n",
    "y_test_pred_ridge = model_ridge.predict(X_test)\n",
    "y_test_pred_lasso = model_lasso.predict(X_test)\n",
    "y_test_pred_tree = model_tree.predict(X_test)\n",
    "y_test_pred_rf = model_rf.predict(X_test)\n",
    "dtest = xgb.DMatrix(X_test, feature_names=features)\n",
    "y_test_pred_xgb = model_xgb.predict(dtest)\n",
    "\n",
    "print('Linear\\t', round(root_mean_squared_error(y_test, y_test_pred_lr), 3))\n",
    "print('Ridge\\t', round(root_mean_squared_error(y_test, y_test_pred_ridge), 3))\n",
    "print('Lasso\\t', round(root_mean_squared_error(y_test, y_test_pred_lasso), 3))\n",
    "print('Tree\\t', round(root_mean_squared_error(y_test, y_test_pred_tree), 3))\n",
    "print('RF\\t', round(root_mean_squared_error(y_test, y_test_pred_rf), 3))\n",
    "print('XGB\\t', round(root_mean_squared_error(y_test, y_test_pred_xgb), 3))"
   ]
  },
  {
   "cell_type": "markdown",
   "metadata": {},
   "source": [
    "### Winner"
   ]
  },
  {
   "cell_type": "markdown",
   "metadata": {},
   "source": [
    "Random forest model with n_estimators = 50, max_depth = 16, min_samples_leaf = 4"
   ]
  }
 ],
 "metadata": {
  "kernelspec": {
   "display_name": "wq",
   "language": "python",
   "name": "python3"
  },
  "language_info": {
   "codemirror_mode": {
    "name": "ipython",
    "version": 3
   },
   "file_extension": ".py",
   "mimetype": "text/x-python",
   "name": "python",
   "nbconvert_exporter": "python",
   "pygments_lexer": "ipython3",
   "version": "3.11.10"
  }
 },
 "nbformat": 4,
 "nbformat_minor": 4
}
